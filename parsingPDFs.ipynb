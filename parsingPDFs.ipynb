{
 "cells": [
  {
   "cell_type": "markdown",
   "id": "6e2709fc",
   "metadata": {},
   "source": [
    "The code in the next cell extracts the text from a sample PDF so it can be examined for parsing. If this works, I can loop through all the PDFs in my local folder to finish the job."
   ]
  },
  {
   "cell_type": "code",
   "execution_count": 11,
   "id": "75c81b4d",
   "metadata": {
    "scrolled": false
   },
   "outputs": [],
   "source": [
    "import fitz\n",
    "\n",
    "# Path to PDF file\n",
    "pdf_path = 'C:/Users/Admin/Desktop/Career/Projects/PHRF/2023_Worksheet_Prints/ABYC_JAM_2023.pdf'\n",
    "\n",
    "# Read PDF\n",
    "doc = fitz.open(pdf_path)\n",
    "\n",
    "# Extract text from PDF\n",
    "pdf_text = \"\"\n",
    "for page in doc:\n",
    "    pdf_text += page.get_text()\n",
    "\n",
    "# Save the extracted text to a file\n",
    "extracted_text_path = 'C:/Users/Admin/Desktop/Career/Projects/PHRF/textfiles/ABYC.txt'\n",
    "with open(extracted_text_path, 'w') as f:\n",
    "    f.write(pdf_text)"
   ]
  },
  {
   "cell_type": "markdown",
   "id": "9cee8a69",
   "metadata": {},
   "source": [
    "Below is what the text looks like. It's a mess, I'm not sure this is doable with this method."
   ]
  },
  {
   "cell_type": "code",
   "execution_count": 10,
   "id": "00713e80",
   "metadata": {},
   "outputs": [
    {
     "data": {
      "text/plain": [
       "\"WorksheetID:4630\\nClub:ABYC\\nEventYear:2023\\nEvent:JAM\\nDivision:NFS\\nClass\\nOwner\\nBoat\\nPHRF-LO Race Worksheet Report\\nRace Count\\nAirborne\\n3\\n0\\n189\\n0\\n0\\n0\\n0\\n0\\n0\\n0\\n3858\\n4098\\n4870\\n4736\\n0\\n0\\n0\\n0\\n0\\n0\\n0\\n0\\n0\\n0\\n0\\n0\\n0\\n0\\n0\\n0\\n0\\n0\\n0\\n0\\n0\\n0\\n0\\nCalc'd Second's:\\n1\\n2\\n3\\n4\\n5\\n6\\n7\\n8\\n9\\n10\\n11\\n12\\n13\\n14\\n15\\n16\\n17\\n18\\n19\\n20\\n21\\n22\\n23\\n24\\n25\\n26\\n27\\n28\\n29\\n30\\n31\\n32\\n33\\n34\\n0\\n35\\n0\\nSubmitted Time:\\n0\\n10418\\n10818\\n12110\\n11856\\n0\\nCalc'd TOD Rating:\\n0\\n0\\n0\\n0\\n0\\n0\\n223\\n0\\n189\\n246\\n0\\n0\\n0\\n0\\n0\\n0\\n0\\n0\\n0\\n0\\n0\\n0\\n0\\n0\\n0\\n0\\n0\\n0\\n0\\n0\\n0\\n0\\n0\\n0\\nRating Diff (sec's):\\n0\\n0\\n0\\n0\\n0\\n0\\n0\\n+34\\n0\\n0\\n+57\\n0\\n0\\n0\\n0\\n0\\n0\\n0\\n0\\n0\\n0\\n0\\n0\\n0\\n0\\n0\\n0\\n0\\n0\\n0\\n0\\n0\\n0\\n0\\n0\\nPHRF ASP  Submitted ASP\\nRace Data\\n  Median of Calc'd TOD\\n223\\nAverage of Calc'd TOD\\n219\\nPHRF vs Median TOD \\n+34\\nC&C 27-5 **\\n ST/DEV\\n28.7\\nBoat ASP Stat's\\nCORMACK MCCARTHY\\nCalc'd Second's:\\nSubmitted Time:\\nCalc'd TOD Rating:\\nRating Diff (sec's):\\nBLYTHE SPIRIT\\n5\\n0\\n186\\n0\\n0\\n0\\n0\\n0\\n0\\n0\\n0\\n0\\n0\\n0\\n0\\n4576\\n3022\\n4003\\n4529\\n5057\\n0\\n0\\n0\\n0\\n0\\n0\\n0\\n0\\n0\\n0\\n0\\n0\\n0\\n0\\n0\\n0\\n0\\nCalc'd Second's:\\n1\\n2\\n3\\n4\\n5\\n6\\n7\\n8\\n9\\n10\\n11\\n12\\n13\\n14\\n15\\n16\\n17\\n18\\n19\\n20\\n21\\n22\\n23\\n24\\n25\\n26\\n27\\n28\\n29\\n30\\n31\\n32\\n33\\n34\\n0\\n35\\n0\\nSubmitted Time:\\n11616\\n5022\\n10643\\n11529\\n12417\\n0\\nCalc'd TOD Rating:\\n0\\n0\\n0\\n0\\n0\\n0\\n0\\n0\\n0\\n0\\n0\\n114\\n154\\n170\\n186\\n169\\n0\\n0\\n0\\n0\\n0\\n0\\n0\\n0\\n0\\n0\\n0\\n0\\n0\\n0\\n0\\n0\\n0\\n0\\nRating Diff (sec's):\\n0\\n0\\n0\\n0\\n0\\n0\\n0\\n0\\n0\\n0\\n0\\n0\\n–72\\n–32\\n–16\\n0\\n–17\\n0\\n0\\n0\\n0\\n0\\n0\\n0\\n0\\n0\\n0\\n0\\n0\\n0\\n0\\n0\\n0\\n0\\n0\\nPHRF ASP  Submitted ASP\\nRace Data\\n  Median of Calc'd TOD\\n169\\nAverage of Calc'd TOD\\n159\\nPHRF vs Median TOD \\n-17\\nVIKING 28 OB\\n ST/DEV\\n27.4\\nBoat ASP Stat's\\nSTEVE CUTTING\\nCalc'd Second's:\\nSubmitted Time:\\nCalc'd TOD Rating:\\nRating Diff (sec's):\\nWorksheetID:4630\\nClub:ABYC\\nEventYear:2023\\nEvent:JAM\\nDivision:NFS\\nClass\\nOwner\\nBoat\\nPHRF-LO Race Worksheet Report\\nRace Count\\nChill\\n6\\n0\\n141\\n0\\n0\\n0\\n0\\n0\\n0\\n0\\n0\\n0\\n0\\n0\\n0\\n5126\\n3160\\n4287\\n4455\\n5098\\n3386\\n0\\n0\\n0\\n0\\n0\\n0\\n0\\n0\\n0\\n0\\n0\\n0\\n0\\n0\\n0\\n0\\nCalc'd Second's:\\n1\\n2\\n3\\n4\\n5\\n6\\n7\\n8\\n9\\n10\\n11\\n12\\n13\\n14\\n15\\n16\\n17\\n18\\n19\\n20\\n21\\n22\\n23\\n24\\n25\\n26\\n27\\n28\\n29\\n30\\n31\\n32\\n33\\n34\\n0\\n35\\n0\\nSubmitted Time:\\n12526\\n5240\\n11127\\n11415\\n12458\\n5626\\nCalc'd TOD Rating:\\n0\\n0\\n0\\n0\\n0\\n0\\n0\\n0\\n0\\n0\\n0\\n175\\n180\\n211\\n176\\n174\\n197\\n0\\n0\\n0\\n0\\n0\\n0\\n0\\n0\\n0\\n0\\n0\\n0\\n0\\n0\\n0\\n0\\n0\\nRating Diff (sec's):\\n0\\n0\\n0\\n0\\n0\\n0\\n0\\n0\\n0\\n0\\n0\\n0\\n+34\\n+39\\n+70\\n+35\\n+33\\n+56\\n0\\n0\\n0\\n0\\n0\\n0\\n0\\n0\\n0\\n0\\n0\\n0\\n0\\n0\\n0\\n0\\n0\\nPHRF ASP  Submitted ASP\\nRace Data\\n  Median of Calc'd TOD\\n178\\nAverage of Calc'd TOD\\n186\\nPHRF vs Median TOD \\n+37\\nHUNTER 386 SD\\n ST/DEV\\n15.1\\nBoat ASP Stat's\\nALAN COULTER\\nCalc'd Second's:\\nSubmitted Time:\\nCalc'd TOD Rating:\\nRating Diff (sec's):\\nDEMONS DANCE\\n11\\n117\\n117\\n3312\\n2917\\n4420\\n3130\\n3677\\n4158\\n0\\n0\\n0\\n0\\n0\\n0\\n0\\n2945\\n3509\\n3753\\n5078\\n2967\\n0\\n0\\n0\\n0\\n0\\n0\\n0\\n0\\n0\\n0\\n0\\n0\\n0\\n0\\n0\\n0\\nCalc'd Second's:\\n1\\n2\\n3\\n4\\n5\\n6\\n7\\n8\\n9\\n10\\n11\\n12\\n13\\n14\\n15\\n16\\n17\\n18\\n19\\n20\\n21\\n22\\n23\\n24\\n25\\n26\\n27\\n28\\n29\\n30\\n31\\n32\\n33\\n34\\n0\\n35\\n5512\\n141\\nSubmitted Time:\\n4837\\n11340\\n5210\\n10117\\n10918\\n0\\n4905\\n5829\\n10233\\n12438\\n4927\\nCalc'd TOD Rating:\\n158\\n121\\n123\\n143\\n150\\n0\\n0\\n0\\n0\\n0\\n0\\n0\\n140\\n100\\n85\\n172\\n123\\n0\\n0\\n0\\n0\\n0\\n0\\n0\\n0\\n0\\n0\\n0\\n0\\n0\\n0\\n0\\n0\\n0\\nRating Diff (sec's):\\n+24\\n+41\\n+4\\n+6\\n+26\\n+33\\n0\\n0\\n0\\n0\\n0\\n0\\n0\\n+23\\n–17\\n–32\\n+55\\n+6\\n0\\n0\\n0\\n0\\n0\\n0\\n0\\n0\\n0\\n0\\n0\\n0\\n0\\n0\\n0\\n0\\n0\\nPHRF ASP  Submitted ASP\\nRace Data\\n  Median of Calc'd TOD\\n140\\nAverage of Calc'd TOD\\n132\\nPHRF vs Median TOD \\n+23\\nC&C 99 CF SD **\\n ST/DEV\\n25.3\\nBoat ASP Stat's\\nTIM CONNOLLY\\nCalc'd Second's:\\nSubmitted Time:\\nCalc'd TOD Rating:\\nRating Diff (sec's):\\nWorksheetID:4630\\nClub:ABYC\\nEventYear:2023\\nEvent:JAM\\nDivision:NFS\\nClass\\nOwner\\nBoat\\nPHRF-LO Race Worksheet Report\\nRace Count\\nDRAGON SPIRIT\\n8\\n0\\n150\\n0\\n0\\n0\\n0\\n0\\n0\\n0\\n0\\n0\\n0\\n0\\n0\\n0\\n2905\\n3858\\n4210\\n4871\\n3119\\n1908\\n0\\n3291\\n0\\n5613\\n2563\\n0\\n0\\n0\\n0\\n0\\n0\\n0\\n0\\n0\\n0\\nCalc'd Second's:\\n1\\n2\\n3\\n4\\n5\\n6\\n7\\n8\\n9\\n10\\n11\\n12\\n13\\n14\\n15\\n16\\n17\\n18\\n19\\n20\\n21\\n22\\n23\\n24\\n25\\n26\\n27\\n28\\n29\\n30\\n31\\n32\\n33\\n34\\n0\\n35\\n0\\nSubmitted Time:\\n0\\n4825\\n10418\\n11010\\n12111\\n5159\\n003148\\n0 005451\\n0 013333 004243\\nCalc'd TOD Rating:\\n0\\n0\\n0\\n0\\n0\\n0\\n0\\n0\\n0\\n0\\n0\\n0\\n133\\n150\\n144\\n148\\n150\\n132\\n0\\n115\\n0\\n159\\n232\\n0\\n0\\n0\\n0\\n0\\n0\\n0\\n0\\n0\\n0\\n0\\nRating Diff (sec's):\\n0\\n0\\n0\\n0\\n0\\n0\\n0\\n0\\n0\\n0\\n0\\n0\\n0\\n–17\\n0\\n–6\\n–2\\n0\\n–18\\n0\\n–35\\n0\\n+9\\n+82\\n0\\n0\\n0\\n0\\n0\\n0\\n0\\n0\\n0\\n0\\n0\\nPHRF ASP  Submitted ASP\\nRace Data\\n  Median of Calc'd TOD\\n146\\nAverage of Calc'd TOD\\n141\\nPHRF vs Median TOD \\n-4\\nC&C 35-2 SM\\n ST/DEV\\n14.0\\nBoat ASP Stat's\\nELISABETH GIANELIA\\nCalc'd Second's:\\nSubmitted Time:\\nCalc'd TOD Rating:\\nRating Diff (sec's):\\nENIGMA\\n15\\n153\\n153\\n0\\n2912\\n5010\\n4334\\n0\\n4203\\n0\\n3578\\n0\\n5322\\n4054\\n2977\\n5165\\n3052\\n4160\\n4610\\n0\\n3540\\n1981\\n0\\n4522\\n0\\n5883\\n4794\\n0\\n0\\n0\\n0\\n0\\n0\\n0\\n0\\n0\\n0\\nCalc'd Second's:\\n1\\n2\\n3\\n4\\n5\\n6\\n7\\n8\\n9\\n10\\n11\\n12\\n13\\n14\\n15\\n16\\n17\\n18\\n19\\n20\\n21\\n22\\n23\\n24\\n25\\n26\\n27\\n28\\n29\\n30\\n31\\n32\\n33\\n34\\n0\\n35\\n0\\n0\\nSubmitted Time:\\n4832\\n12330\\n11214\\n0\\n11003\\n0\\n5938\\n0\\n12842\\n10734\\n4937\\n12605\\n5052\\n10920\\n11650\\n0\\n5900\\n003301\\n0 011522\\n0 013803 011954\\nCalc'd TOD Rating:\\n157\\n191\\n324\\n0\\n156\\n0\\n178\\n0\\n243\\n153\\n0\\n180\\n160\\n193\\n196\\n0\\n224\\n153\\n0\\n308\\n0\\n186\\n784\\n0\\n0\\n0\\n0\\n0\\n0\\n0\\n0\\n0\\n0\\n0\\nRating Diff (sec's):\\n0\\n+4\\n+38\\n+171\\n0\\n+3\\n0\\n+25\\n0\\n+90\\n0\\n0\\n+27\\n+7\\n+40\\n+43\\n0\\n+71\\n0\\n0\\n+155\\n0\\n+33\\n+631\\n0\\n0\\n0\\n0\\n0\\n0\\n0\\n0\\n0\\n0\\n0\\nPHRF ASP  Submitted ASP\\nRace Data\\n  Median of Calc'd TOD\\n186\\nAverage of Calc'd TOD\\n200\\nPHRF vs Median TOD \\n+33\\nBENETEAU 25 PLATU\\n ST/DEV\\n53.8\\nBoat ASP Stat's\\nCOOP ABYC\\nCalc'd Second's:\\nSubmitted Time:\\nCalc'd TOD Rating:\\nRating Diff (sec's):\\nWorksheetID:4630\\nClub:ABYC\\nEventYear:2023\\nEvent:JAM\\nDivision:NFS\\nClass\\nOwner\\nBoat\\nPHRF-LO Race Worksheet Report\\nRace Count\\nRadzeer\\n16\\n173\\n173\\n3406\\n2929\\n4855\\n3428\\n0\\n4307\\n4313\\n3239\\n3541\\n4363\\n4152\\n0\\n5365\\n0\\n4156\\n4375\\n5220\\n3064\\n0\\n0\\n0\\n5801\\n5745\\n2323\\n0\\n0\\n0\\n0\\n0\\n0\\n0\\n0\\n0\\n0\\nCalc'd Second's:\\n1\\n2\\n3\\n4\\n5\\n6\\n7\\n8\\n9\\n10\\n11\\n12\\n13\\n14\\n15\\n16\\n17\\n18\\n19\\n20\\n21\\n22\\n23\\n24\\n25\\n26\\n27\\n28\\n29\\n30\\n31\\n32\\n33\\n34\\n0\\n35\\n5646\\n156\\nSubmitted Time:\\n4849\\n12055\\n5708\\n0\\n11147\\n11153\\n5359\\n5901\\n11243\\n10912\\n0\\n12925\\n0\\n10916\\n11255\\n12700\\n5104\\n0\\n0\\n0 013641 013545 003843\\nCalc'd TOD Rating:\\n160\\n173\\n173\\n0\\n169\\n0\\n123\\n0\\n127\\n166\\n0\\n202\\n0\\n192\\n166\\n188\\n140\\n0\\n0\\n0\\n189\\n173\\n173\\n0\\n0\\n0\\n0\\n0\\n0\\n0\\n0\\n0\\n0\\n0\\nRating Diff (sec's):\\n–17\\n–13\\n0\\n0\\n0\\n–4\\n0\\n–50\\n0\\n–46\\n–7\\n0\\n+29\\n0\\n+19\\n–7\\n+15\\n–33\\n0\\n0\\n0\\n+16\\n0\\n0\\n0\\n0\\n0\\n0\\n0\\n0\\n0\\n0\\n0\\n0\\n0\\nPHRF ASP  Submitted ASP\\nRace Data\\n  Median of Calc'd TOD\\n171\\nAverage of Calc'd TOD\\n167\\nPHRF vs Median TOD \\n-2\\nCS 33\\n ST/DEV\\n22.2\\nBoat ASP Stat's\\nKENNETH EVANS\\nCalc'd Second's:\\nSubmitted Time:\\nCalc'd TOD Rating:\\nRating Diff (sec's):\\nRASKKULSKIP\\n3\\n0\\n183\\n0\\n0\\n0\\n0\\n0\\n0\\n0\\n0\\n0\\n0\\n0\\n0\\n4805\\n3046\\n0\\n0\\n5051\\n0\\n0\\n0\\n0\\n0\\n0\\n0\\n0\\n0\\n0\\n0\\n0\\n0\\n0\\n0\\n0\\n0\\nCalc'd Second's:\\n1\\n2\\n3\\n4\\n5\\n6\\n7\\n8\\n9\\n10\\n11\\n12\\n13\\n14\\n15\\n16\\n17\\n18\\n19\\n20\\n21\\n22\\n23\\n24\\n25\\n26\\n27\\n28\\n29\\n30\\n31\\n32\\n33\\n34\\n0\\n35\\n0\\nSubmitted Time:\\n12005\\n5046\\n0\\n0\\n12411\\n0\\nCalc'd TOD Rating:\\n0\\n0\\n0\\n0\\n0\\n0\\n0\\n0\\n0\\n0\\n0\\n139\\n159\\n0\\n0\\n169\\n0\\n0\\n0\\n0\\n0\\n0\\n0\\n0\\n0\\n0\\n0\\n0\\n0\\n0\\n0\\n0\\n0\\n0\\nRating Diff (sec's):\\n0\\n0\\n0\\n0\\n0\\n0\\n0\\n0\\n0\\n0\\n0\\n0\\n–44\\n–24\\n0\\n0\\n–14\\n0\\n0\\n0\\n0\\n0\\n0\\n0\\n0\\n0\\n0\\n0\\n0\\n0\\n0\\n0\\n0\\n0\\n0\\nPHRF ASP  Submitted ASP\\nRace Data\\n  Median of Calc'd TOD\\n159\\nAverage of Calc'd TOD\\n156\\nPHRF vs Median TOD \\n-24\\nVIKING 28 IB\\n ST/DEV\\n15.3\\nBoat ASP Stat's\\nKAUSHAL BHAVNA\\nCalc'd Second's:\\nSubmitted Time:\\nCalc'd TOD Rating:\\nRating Diff (sec's):\\nWorksheetID:4630\\nClub:ABYC\\nEventYear:2023\\nEvent:JAM\\nDivision:NFS\\nClass\\nOwner\\nBoat\\nPHRF-LO Race Worksheet Report\\nRace Count\\nSAMI BOUY\\n5\\n0\\n133\\n0\\n0\\n0\\n0\\n0\\n0\\n0\\n0\\n0\\n0\\n0\\n0\\n0\\n0\\n0\\n0\\n0\\n0\\n1965\\n0\\n3402\\n5236\\n4828\\n2100\\n0\\n0\\n0\\n0\\n0\\n0\\n0\\n0\\n0\\n0\\nCalc'd Second's:\\n1\\n2\\n3\\n4\\n5\\n6\\n7\\n8\\n9\\n10\\n11\\n12\\n13\\n14\\n15\\n16\\n17\\n18\\n19\\n20\\n21\\n22\\n23\\n24\\n25\\n26\\n27\\n28\\n29\\n30\\n31\\n32\\n33\\n34\\n0\\n35\\n0\\nSubmitted Time:\\n003245\\n0 005642 012716 012028 003500\\nCalc'd TOD Rating:\\n0\\n0\\n0\\n0\\n0\\n0\\n0\\n0\\n0\\n0\\n0\\n0\\n0\\n0\\n0\\n0\\n0\\n148\\n0\\n132\\n131\\n81\\n117\\n0\\n0\\n0\\n0\\n0\\n0\\n0\\n0\\n0\\n0\\n0\\nRating Diff (sec's):\\n0\\n0\\n0\\n0\\n0\\n0\\n0\\n0\\n0\\n0\\n0\\n0\\n0\\n0\\n0\\n0\\n0\\n0\\n+15\\n0\\n–1\\n–2\\n–52\\n–16\\n0\\n0\\n0\\n0\\n0\\n0\\n0\\n0\\n0\\n0\\n0\\nPHRF ASP  Submitted ASP\\nRace Data\\n  Median of Calc'd TOD\\n131\\nAverage of Calc'd TOD\\n122\\nPHRF vs Median TOD \\n-2\\nC&C 35-3\\n ST/DEV\\n25.3\\nBoat ASP Stat's\\nCHRISTIAN PETERSEN\\nCalc'd Second's:\\nSubmitted Time:\\nCalc'd TOD Rating:\\nRating Diff (sec's):\\nSATORI\\n1\\n0\\n135\\n0\\n0\\n0\\n0\\n0\\n0\\n6133\\n3162\\n2473\\n0\\n0\\n0\\n0\\n0\\n0\\n0\\n0\\n0\\n0\\n0\\n0\\n0\\n0\\n0\\n0\\n0\\n0\\n0\\n0\\n0\\n0\\n0\\n0\\n0\\nCalc'd Second's:\\n1\\n2\\n3\\n4\\n5\\n6\\n7\\n8\\n9\\n10\\n11\\n12\\n13\\n14\\n15\\n16\\n17\\n18\\n19\\n20\\n21\\n22\\n23\\n24\\n25\\n26\\n27\\n28\\n29\\n30\\n31\\n32\\n33\\n34\\n0\\n35\\n0\\nSubmitted Time:\\n14213\\n5242\\n4113\\n0\\n0\\n0\\nCalc'd TOD Rating:\\n0\\n0\\n0\\n0\\n0\\n0\\n110\\n0\\n0\\n0\\n0\\n0\\n0\\n0\\n0\\n0\\n0\\n0\\n0\\n0\\n0\\n0\\n0\\n0\\n0\\n0\\n0\\n0\\n0\\n0\\n0\\n0\\n0\\n0\\nRating Diff (sec's):\\n0\\n0\\n0\\n0\\n0\\n0\\n0\\n–25\\n0\\n0\\n0\\n0\\n0\\n0\\n0\\n0\\n0\\n0\\n0\\n0\\n0\\n0\\n0\\n0\\n0\\n0\\n0\\n0\\n0\\n0\\n0\\n0\\n0\\n0\\n0\\nPHRF ASP  Submitted ASP\\nRace Data\\n  Median of Calc'd TOD\\n110\\nAverage of Calc'd TOD\\n0\\nPHRF vs Median TOD \\n-25\\nC&C 35-3\\n ST/DEV\\n0.0\\nBoat ASP Stat's\\nDANIEL GREGORY\\nCalc'd Second's:\\nSubmitted Time:\\nCalc'd TOD Rating:\\nRating Diff (sec's):\\nWorksheetID:4630\\nClub:ABYC\\nEventYear:2023\\nEvent:JAM\\nDivision:NFS\\nClass\\nOwner\\nBoat\\nPHRF-LO Race Worksheet Report\\nRace Count\\nTecumseh\\n10\\n191\\n191\\n3721\\n2936\\n4512\\n3374\\n3815\\n4195\\n0\\n0\\n0\\n0\\n0\\n0\\n0\\n0\\n4009\\n4574\\n5123\\n3349\\n0\\n0\\n0\\n0\\n0\\n0\\n0\\n0\\n0\\n0\\n0\\n0\\n0\\n0\\n0\\n0\\nCalc'd Second's:\\n1\\n2\\n3\\n4\\n5\\n6\\n7\\n8\\n9\\n10\\n11\\n12\\n13\\n14\\n15\\n16\\n17\\n18\\n19\\n20\\n21\\n22\\n23\\n24\\n25\\n26\\n27\\n28\\n29\\n30\\n31\\n32\\n33\\n34\\n0\\n35\\n10201\\n208\\nSubmitted Time:\\n4856\\n11512\\n5614\\n10335\\n10955\\n0\\n0\\n10649\\n11614\\n12523\\n5549\\nCalc'd TOD Rating:\\n161\\n132\\n163\\n163\\n154\\n0\\n0\\n0\\n0\\n0\\n0\\n0\\n0\\n171\\n191\\n177\\n190\\n0\\n0\\n0\\n0\\n0\\n0\\n0\\n0\\n0\\n0\\n0\\n0\\n0\\n0\\n0\\n0\\n0\\nRating Diff (sec's):\\n+17\\n–30\\n–59\\n–28\\n–28\\n–37\\n0\\n0\\n0\\n0\\n0\\n0\\n0\\n0\\n–20\\n0\\n–14\\n–1\\n0\\n0\\n0\\n0\\n0\\n0\\n0\\n0\\n0\\n0\\n0\\n0\\n0\\n0\\n0\\n0\\n0\\nPHRF ASP  Submitted ASP\\nRace Data\\n  Median of Calc'd TOD\\n167\\nAverage of Calc'd TOD\\n171\\nPHRF vs Median TOD \\n-24\\nVIKING 28 IB\\n ST/DEV\\n21.6\\nBoat ASP Stat's\\nGREGORY REUTER\\nCalc'd Second's:\\nSubmitted Time:\\nCalc'd TOD Rating:\\nRating Diff (sec's):\\nTrue North\\n12\\n198\\n198\\n3420\\n2977\\n4401\\n3338\\n0\\n4333\\n0\\n0\\n0\\n0\\n0\\n0\\n5059\\n3256\\n0\\n0\\n5315\\n3206\\n0\\n0\\n0\\n5885\\n5312\\n2116\\n0\\n0\\n0\\n0\\n0\\n0\\n0\\n0\\n0\\n0\\nCalc'd Second's:\\n1\\n2\\n3\\n4\\n5\\n6\\n7\\n8\\n9\\n10\\n11\\n12\\n13\\n14\\n15\\n16\\n17\\n18\\n19\\n20\\n21\\n22\\n23\\n24\\n25\\n26\\n27\\n28\\n29\\n30\\n31\\n32\\n33\\n34\\n0\\n35\\n5700\\n158\\nSubmitted Time:\\n4937\\n11321\\n5538\\n0\\n11213\\n12419\\n5416\\n0\\n0\\n12835\\n5326\\n0\\n0\\n0 013805 012832 003516\\nCalc'd TOD Rating:\\n169\\n119\\n157\\n0\\n173\\n0\\n0\\n0\\n0\\n0\\n0\\n168\\n198\\n0\\n0\\n199\\n165\\n0\\n0\\n0\\n198\\n129\\n121\\n0\\n0\\n0\\n0\\n0\\n0\\n0\\n0\\n0\\n0\\n0\\nRating Diff (sec's):\\n–40\\n–29\\n–79\\n–41\\n0\\n–25\\n0\\n0\\n0\\n0\\n0\\n0\\n–30\\n0\\n0\\n0\\n+1\\n–33\\n0\\n0\\n0\\n0\\n–69\\n–77\\n0\\n0\\n0\\n0\\n0\\n0\\n0\\n0\\n0\\n0\\n0\\nPHRF ASP  Submitted ASP\\nRace Data\\n  Median of Calc'd TOD\\n166\\nAverage of Calc'd TOD\\n163\\nPHRF vs Median TOD \\n-32\\nHUNTER 27X\\n ST/DEV\\n28.3\\nBoat ASP Stat's\\nSIMON MIELNICZUK\\nCalc'd Second's:\\nSubmitted Time:\\nCalc'd TOD Rating:\\nRating Diff (sec's):\\nWorksheetID:4630\\nClub:ABYC\\nEventYear:2023\\nEvent:JAM\\nDivision:NFS\\nClass\\nOwner\\nBoat\\nPHRF-LO Race Worksheet Report\\nRace Count\\nVOILA\\n4\\n238\\n238\\n4436\\n4497\\n6220\\n5119\\n0\\n0\\n0\\n0\\n0\\n0\\n0\\n0\\n0\\n0\\n0\\n0\\n0\\n0\\n0\\n0\\n0\\n0\\n0\\n0\\n0\\n0\\n0\\n0\\n0\\n0\\n0\\n0\\n0\\n0\\nCalc'd Second's:\\n1\\n2\\n3\\n4\\n5\\n6\\n7\\n8\\n9\\n10\\n11\\n12\\n13\\n14\\n15\\n16\\n17\\n18\\n19\\n20\\n21\\n22\\n23\\n24\\n25\\n26\\n27\\n28\\n29\\n30\\n31\\n32\\n33\\n34\\n0\\n35\\n11356\\n325\\nSubmitted Time:\\n11457\\n14340\\n12519\\n0\\n0\\nCalc'd TOD Rating:\\n461\\n334\\n456\\n0\\n0\\n0\\n0\\n0\\n0\\n0\\n0\\n0\\n0\\n0\\n0\\n0\\n0\\n0\\n0\\n0\\n0\\n0\\n0\\n0\\n0\\n0\\n0\\n0\\n0\\n0\\n0\\n0\\n0\\n0\\nRating Diff (sec's):\\n+87\\n+223\\n+96\\n+218\\n0\\n0\\n0\\n0\\n0\\n0\\n0\\n0\\n0\\n0\\n0\\n0\\n0\\n0\\n0\\n0\\n0\\n0\\n0\\n0\\n0\\n0\\n0\\n0\\n0\\n0\\n0\\n0\\n0\\n0\\n0\\nPHRF ASP  Submitted ASP\\nRace Data\\n  Median of Calc'd TOD\\n395\\nAverage of Calc'd TOD\\n394\\nPHRF vs Median TOD \\n+157\\nKELT 7.6 OB\\n ST/DEV\\n74.6\\nBoat ASP Stat's\\nASHBRIDGES BAY YACHT CLUB\\nCalc'd Second's:\\nSubmitted Time:\\nCalc'd TOD Rating:\\nRating Diff (sec's):\\nWILD OATS II\\n6\\n144\\n144\\n3058\\n2844\\n4295\\n3043\\n3682\\n4138\\n0\\n0\\n0\\n0\\n0\\n0\\n0\\n0\\n0\\n0\\n0\\n0\\n0\\n0\\n0\\n0\\n0\\n0\\n0\\n0\\n0\\n0\\n0\\n0\\n0\\n0\\n0\\n0\\nCalc'd Second's:\\n1\\n2\\n3\\n4\\n5\\n6\\n7\\n8\\n9\\n10\\n11\\n12\\n13\\n14\\n15\\n16\\n17\\n18\\n19\\n20\\n21\\n22\\n23\\n24\\n25\\n26\\n27\\n28\\n29\\n30\\n31\\n32\\n33\\n34\\n0\\n35\\n5058\\n99\\nSubmitted Time:\\n4724\\n11135\\n5043\\n10122\\n10858\\nCalc'd TOD Rating:\\n144\\n106\\n108\\n144\\n147\\n0\\n0\\n0\\n0\\n0\\n0\\n0\\n0\\n0\\n0\\n0\\n0\\n0\\n0\\n0\\n0\\n0\\n0\\n0\\n0\\n0\\n0\\n0\\n0\\n0\\n0\\n0\\n0\\n0\\nRating Diff (sec's):\\n–45\\n0\\n–38\\n–36\\n0\\n+3\\n0\\n0\\n0\\n0\\n0\\n0\\n0\\n0\\n0\\n0\\n0\\n0\\n0\\n0\\n0\\n0\\n0\\n0\\n0\\n0\\n0\\n0\\n0\\n0\\n0\\n0\\n0\\n0\\n0\\nPHRF ASP  Submitted ASP\\nRace Data\\n  Median of Calc'd TOD\\n126\\nAverage of Calc'd TOD\\n125\\nPHRF vs Median TOD \\n-18\\nJ 30\\n ST/DEV\\n22.5\\nBoat ASP Stat's\\nROY LITTLE\\nCalc'd Second's:\\nSubmitted Time:\\nCalc'd TOD Rating:\\nRating Diff (sec's):\\n\""
      ]
     },
     "execution_count": 10,
     "metadata": {},
     "output_type": "execute_result"
    }
   ],
   "source": [
    "pdf_text"
   ]
  },
  {
   "cell_type": "markdown",
   "id": "2d5b7066",
   "metadata": {},
   "source": [
    "OK the method below is the best I have so far. It's not good enough. The regex statements are too difficult to write and this really isn't worth the effort."
   ]
  },
  {
   "cell_type": "code",
   "execution_count": 17,
   "id": "45103277",
   "metadata": {},
   "outputs": [
    {
     "name": "stdout",
     "output_type": "stream",
     "text": [
      "PHRF ASP: ['223', '169', '178', '140', '146', '186', '171', '159', '131', '110', '167', '166', '395', '126']\n",
      "Boat: ['CORMACK MCCARTHY', 'STEVE CUTTING', 'ALAN COULTER', 'TIM CONNOLLY', 'ELISABETH GIANELIA', 'COOP ABYC', 'KENNETH EVANS', 'KAUSHAL BHAVNA', 'CHRISTIAN PETERSEN', 'DANIEL GREGORY', 'GREGORY REUTER', 'SIMON MIELNICZUK', 'ASHBRIDGES BAY', 'ROY LITTLE']\n",
      "Submitted Time: ['0', '11616', '12526', '4837', '0', '4832', '4849', '12005', '003245', '14213', '4856', '4937', '11457', '4724']\n"
     ]
    }
   ],
   "source": [
    "import re\n",
    "\n",
    "def extract_values(text):\n",
    "    # Compile regex patterns for the desired fields\n",
    "    phrf_asp_pattern = re.compile(r'PHRF ASP\\s+Submitted ASP\\s+Race Data\\n\\s+Median of Calc\\'d TOD\\n(\\d+)')\n",
    "    boat_pattern = re.compile(r'Boat\\s+ASP Stat\\'s\\s+(\\w+\\s\\w+)')\n",
    "    submitted_time_pattern = re.compile(r'Submitted Time:\\s+(\\d+)')\n",
    "    \n",
    "    # Extract values using the regex patterns\n",
    "    phrf_asp = phrf_asp_pattern.findall(text)\n",
    "    boat = boat_pattern.findall(text)\n",
    "    submitted_time = submitted_time_pattern.findall(text)\n",
    "    \n",
    "    return {\n",
    "        'PHRF ASP': phrf_asp,\n",
    "        'Boat': boat,\n",
    "        'Submitted Time': submitted_time\n",
    "    }\n",
    "\n",
    "# Read the text file\n",
    "with open('C:/Users/Admin/Desktop/Career/Projects/PHRF/textfiles/ABYC.txt', 'r') as file:\n",
    "    text = file.read()\n",
    "\n",
    "# Extract values\n",
    "values = extract_values(text)\n",
    "\n",
    "# Print extracted values\n",
    "print(\"PHRF ASP:\", values['PHRF ASP'])\n",
    "print(\"Boat:\", values['Boat'])\n",
    "print(\"Submitted Time:\", values['Submitted Time'])"
   ]
  }
 ],
 "metadata": {
  "kernelspec": {
   "display_name": "Python 3 (ipykernel)",
   "language": "python",
   "name": "python3"
  },
  "language_info": {
   "codemirror_mode": {
    "name": "ipython",
    "version": 3
   },
   "file_extension": ".py",
   "mimetype": "text/x-python",
   "name": "python",
   "nbconvert_exporter": "python",
   "pygments_lexer": "ipython3",
   "version": "3.11.5"
  }
 },
 "nbformat": 4,
 "nbformat_minor": 5
}
