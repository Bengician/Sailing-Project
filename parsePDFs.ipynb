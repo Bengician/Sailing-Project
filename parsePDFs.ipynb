{
 "cells": [
  {
   "cell_type": "markdown",
   "id": "1601850b",
   "metadata": {},
   "source": [
    "The code in the next cell is my best attempt so far to extract the relevant metrics from a sample PDF. If this works, I can loop through all the PDFs in my local folder to finish the job."
   ]
  },
  {
   "cell_type": "code",
   "execution_count": 2,
   "id": "7a2df147",
   "metadata": {},
   "outputs": [
    {
     "ename": "NameError",
     "evalue": "name 'boxes' is not defined",
     "output_type": "error",
     "traceback": [
      "\u001b[1;31m---------------------------------------------------------------------------\u001b[0m",
      "\u001b[1;31mNameError\u001b[0m                                 Traceback (most recent call last)",
      "Cell \u001b[1;32mIn[2], line 43\u001b[0m\n\u001b[0;32m     41\u001b[0m all_race_data \u001b[38;5;241m=\u001b[39m []\n\u001b[0;32m     42\u001b[0m previous_data \u001b[38;5;241m=\u001b[39m {}\n\u001b[1;32m---> 43\u001b[0m \u001b[38;5;28;01mfor\u001b[39;00m box \u001b[38;5;129;01min\u001b[39;00m boxes:\n\u001b[0;32m     44\u001b[0m     race_data, previous_data \u001b[38;5;241m=\u001b[39m extract_data_from_box(box, previous_data)\n\u001b[0;32m     45\u001b[0m     \u001b[38;5;28;01mif\u001b[39;00m race_data:\n",
      "\u001b[1;31mNameError\u001b[0m: name 'boxes' is not defined"
     ]
    }
   ],
   "source": [
    "import pandas as pd\n",
    "\n",
    "# Function to extract top information and race data\n",
    "def extract_data_from_box(box, previous_data):\n",
    "    # Extract top information (Boat, Class, Owner, Race Count)\n",
    "    top_info_pattern = re.compile(r\"^(.*)\\n(.*)\\n(.*)\\nRace Count: (\\d+)\", re.MULTILINE)\n",
    "    match = top_info_pattern.search(box)\n",
    "    \n",
    "    if match:\n",
    "        boat = match.group(1).strip()\n",
    "        boat_class = match.group(2).strip()\n",
    "        owner = match.group(3).strip()\n",
    "        race_count = int(match.group(4).strip())\n",
    "    else:\n",
    "        # Use previous data if no match is found\n",
    "        boat = previous_data.get('Boat', '')\n",
    "        boat_class = previous_data.get('Class', '')\n",
    "        owner = previous_data.get('Owner', '')\n",
    "        race_count = previous_data.get('Race Count', 0)\n",
    "    \n",
    "    # Extract race data\n",
    "    race_data_pattern = re.compile(r\"Submitted Time: (.*?)\\nCalc'd second's: (.*?)\\nCalc'd TOD Rating: (.*?)\\nRating Diff \\(sec's\\): (.*?)\\n\")\n",
    "    race_data_matches = race_data_pattern.findall(box)\n",
    "    \n",
    "    race_data = []\n",
    "    for race in race_data_matches:\n",
    "        race_data.append({\n",
    "            \"Boat\": boat,\n",
    "            \"Class\": boat_class,\n",
    "            \"Owner\": owner,\n",
    "            \"Race Count\": race_count,\n",
    "            \"Submitted Time\": race[0].strip(),\n",
    "            \"Calc'd second's\": race[1].strip(),\n",
    "            \"Calc'd TOD Rating\": race[2].strip(),\n",
    "            \"Rating Diff (sec's)\": race[3].strip()\n",
    "        })\n",
    "    \n",
    "    return race_data, {\"Boat\": boat, \"Class\": boat_class, \"Owner\": owner, \"Race Count\": race_count}\n",
    "\n",
    "# Extract data from all boxes and store in a list\n",
    "all_race_data = []\n",
    "previous_data = {}\n",
    "for box in boxes:\n",
    "    race_data, previous_data = extract_data_from_box(box, previous_data)\n",
    "    if race_data:\n",
    "        all_race_data.extend(race_data)\n",
    "\n",
    "# Convert the list of dictionaries to a pandas DataFrame\n",
    "df = pd.DataFrame(all_race_data)\n",
    "\n",
    "# Save the DataFrame to a CSV file\n",
    "df.to_csv('C:/Users/Admin/Desktop/Career/Projects/PHRF/2023_Worksheet_Prints/race_data.csv', index=False)\n",
    "\n",
    "# Display the DataFrame\n",
    "print(df)"
   ]
  },
  {
   "cell_type": "code",
   "execution_count": 3,
   "id": "efc3542c",
   "metadata": {},
   "outputs": [
    {
     "ename": "NameError",
     "evalue": "name 'box' is not defined",
     "output_type": "error",
     "traceback": [
      "\u001b[1;31m---------------------------------------------------------------------------\u001b[0m",
      "\u001b[1;31mNameError\u001b[0m                                 Traceback (most recent call last)",
      "Cell \u001b[1;32mIn[3], line 1\u001b[0m\n\u001b[1;32m----> 1\u001b[0m box\n",
      "\u001b[1;31mNameError\u001b[0m: name 'box' is not defined"
     ]
    }
   ],
   "source": [
    "box"
   ]
  }
 ],
 "metadata": {
  "kernelspec": {
   "display_name": "Python 3 (ipykernel)",
   "language": "python",
   "name": "python3"
  },
  "language_info": {
   "codemirror_mode": {
    "name": "ipython",
    "version": 3
   },
   "file_extension": ".py",
   "mimetype": "text/x-python",
   "name": "python",
   "nbconvert_exporter": "python",
   "pygments_lexer": "ipython3",
   "version": "3.11.5"
  }
 },
 "nbformat": 4,
 "nbformat_minor": 5
}
