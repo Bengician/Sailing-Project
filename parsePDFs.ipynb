{
 "cells": [
  {
   "cell_type": "code",
   "execution_count": 3,
   "id": "7a2df147",
   "metadata": {},
   "outputs": [
    {
     "name": "stdout",
     "output_type": "stream",
     "text": [
      "Empty DataFrame\n",
      "Columns: []\n",
      "Index: []\n"
     ]
    }
   ],
   "source": [
    "import pandas as pd\n",
    "\n",
    "# Function to extract top information and race data\n",
    "def extract_data_from_box(box, previous_data):\n",
    "    # Extract top information (Boat, Class, Owner, Race Count)\n",
    "    top_info_pattern = re.compile(r\"^(.*)\\n(.*)\\n(.*)\\nRace Count: (\\d+)\", re.MULTILINE)\n",
    "    match = top_info_pattern.search(box)\n",
    "    \n",
    "    if match:\n",
    "        boat = match.group(1).strip()\n",
    "        boat_class = match.group(2).strip()\n",
    "        owner = match.group(3).strip()\n",
    "        race_count = int(match.group(4).strip())\n",
    "    else:\n",
    "        # Use previous data if no match is found\n",
    "        boat = previous_data.get('Boat', '')\n",
    "        boat_class = previous_data.get('Class', '')\n",
    "        owner = previous_data.get('Owner', '')\n",
    "        race_count = previous_data.get('Race Count', 0)\n",
    "    \n",
    "    # Extract race data\n",
    "    race_data_pattern = re.compile(r\"Submitted Time: (.*?)\\nCalc'd second's: (.*?)\\nCalc'd TOD Rating: (.*?)\\nRating Diff \\(sec's\\): (.*?)\\n\")\n",
    "    race_data_matches = race_data_pattern.findall(box)\n",
    "    \n",
    "    race_data = []\n",
    "    for race in race_data_matches:\n",
    "        race_data.append({\n",
    "            \"Boat\": boat,\n",
    "            \"Class\": boat_class,\n",
    "            \"Owner\": owner,\n",
    "            \"Race Count\": race_count,\n",
    "            \"Submitted Time\": race[0].strip(),\n",
    "            \"Calc'd second's\": race[1].strip(),\n",
    "            \"Calc'd TOD Rating\": race[2].strip(),\n",
    "            \"Rating Diff (sec's)\": race[3].strip()\n",
    "        })\n",
    "    \n",
    "    return race_data, {\"Boat\": boat, \"Class\": boat_class, \"Owner\": owner, \"Race Count\": race_count}\n",
    "\n",
    "# Extract data from all boxes and store in a list\n",
    "all_race_data = []\n",
    "previous_data = {}\n",
    "for box in boxes:\n",
    "    race_data, previous_data = extract_data_from_box(box, previous_data)\n",
    "    if race_data:\n",
    "        all_race_data.extend(race_data)\n",
    "\n",
    "# Convert the list of dictionaries to a pandas DataFrame\n",
    "df = pd.DataFrame(all_race_data)\n",
    "\n",
    "# Save the DataFrame to a CSV file\n",
    "df.to_csv('C:/Users/Admin/Desktop/Career/Projects/PHRF/2023_Worksheet_Prints/race_data.csv', index=False)\n",
    "\n",
    "# Display the DataFrame\n",
    "print(df)"
   ]
  },
  {
   "cell_type": "code",
   "execution_count": 4,
   "id": "efc3542c",
   "metadata": {},
   "outputs": [
    {
     "data": {
      "text/plain": [
       "\"\\nWILD OATS II\\n6\\n144\\n144\\n3058\\n2844\\n4295\\n3043\\n3682\\n4138\\n0\\n0\\n0\\n0\\n0\\n0\\n0\\n0\\n0\\n0\\n0\\n0\\n0\\n0\\n0\\n0\\n0\\n0\\n0\\n0\\n0\\n0\\n0\\n0\\n0\\n0\\n0\\n0\\nCalc'd Second's:\\n1\\n2\\n3\\n4\\n5\\n6\\n7\\n8\\n9\\n10\\n11\\n12\\n13\\n14\\n15\\n16\\n17\\n18\\n19\\n20\\n21\\n22\\n23\\n24\\n25\\n26\\n27\\n28\\n29\\n30\\n31\\n32\\n33\\n34\\n0\\n35\\n5058\\n99\\nSubmitted Time:\\n4724\\n11135\\n5043\\n10122\\n10858\\nCalc'd TOD Rating:\\n144\\n106\\n108\\n144\\n147\\n0\\n0\\n0\\n0\\n0\\n0\\n0\\n0\\n0\\n0\\n0\\n0\\n0\\n0\\n0\\n0\\n0\\n0\\n0\\n0\\n0\\n0\\n0\\n0\\n0\\n0\\n0\\n0\\n0\\nRating Diff (sec's):\\n–45\\n0\\n–38\\n–36\\n0\\n+3\\n0\\n0\\n0\\n0\\n0\\n0\\n0\\n0\\n0\\n0\\n0\\n0\\n0\\n0\\n0\\n0\\n0\\n0\\n0\\n0\\n0\\n0\\n0\\n0\\n0\\n0\\n0\\n0\\n0\\nPHRF ASP  Submitted ASP\\nRace Data\\n  Median of Calc'd TOD\\n126\\nAverage of Calc'd TOD\\n125\\nPHRF vs Median TOD \\n-18\\nJ 30\\n ST/DEV\\n22.5\\nBoat ASP Stat's\\nROY LITTLE\\nCalc'd Second's:\\nSubmitted Time:\\nCalc'd TOD Rating:\\n\""
      ]
     },
     "execution_count": 4,
     "metadata": {},
     "output_type": "execute_result"
    }
   ],
   "source": [
    "box"
   ]
  }
 ],
 "metadata": {
  "kernelspec": {
   "display_name": "Python 3 (ipykernel)",
   "language": "python",
   "name": "python3"
  },
  "language_info": {
   "codemirror_mode": {
    "name": "ipython",
    "version": 3
   },
   "file_extension": ".py",
   "mimetype": "text/x-python",
   "name": "python",
   "nbconvert_exporter": "python",
   "pygments_lexer": "ipython3",
   "version": "3.11.5"
  }
 },
 "nbformat": 4,
 "nbformat_minor": 5
}
